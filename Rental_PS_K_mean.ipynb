{
  "nbformat": 4,
  "nbformat_minor": 0,
  "metadata": {
    "colab": {
      "provenance": [],
      "authorship_tag": "ABX9TyOyWXYSl+6FnwKG5KEq/NrW",
      "include_colab_link": true
    },
    "kernelspec": {
      "name": "python3",
      "display_name": "Python 3"
    },
    "language_info": {
      "name": "python"
    }
  },
  "cells": [
    {
      "cell_type": "markdown",
      "metadata": {
        "id": "view-in-github",
        "colab_type": "text"
      },
      "source": [
        "<a href=\"https://colab.research.google.com/github/juli1123/Contoh-studi-kasus-/blob/main/Rental_PS_K_mean.ipynb\" target=\"_parent\"><img src=\"https://colab.research.google.com/assets/colab-badge.svg\" alt=\"Open In Colab\"/></a>"
      ]
    },
    {
      "cell_type": "code",
      "execution_count": null,
      "metadata": {
        "id": "5NmoPeQC6P7B"
      },
      "outputs": [],
      "source": [
        "import numpy as np\n",
        "import pandas as pd\n",
        "from sklearn.cluster import KMeans\n",
        "import matplotlib.pyplot as plt"
      ]
    },
    {
      "cell_type": "code",
      "source": [
        "# Data penyewaan PS\n",
        "data = {\n",
        "    \"Durasi Sewa (jam)\": [2, 1, 5, 3, 6],\n",
        "        \"Waktu Sewa (jam)\": [18, 15, 20, 10, 22],\n",
        "            \"Pengeluaran (Rp)\": [30000, 15000, 75000, 45000, 90000],\n",
        "                \"Frekuensi Penyewaan (kali)\": [3, 1, 6, 4, 7]\n",
        "                }"
      ],
      "metadata": {
        "id": "kdB9FZUD6jSo"
      },
      "execution_count": null,
      "outputs": []
    },
    {
      "cell_type": "code",
      "source": [
        "# Konversi ke DataFrame\n",
        "df = pd.DataFrame(data)"
      ],
      "metadata": {
        "id": "9obBH4yK7Kk8"
      },
      "execution_count": null,
      "outputs": []
    },
    {
      "cell_type": "code",
      "source": [
        "# Menampilkan data\n",
        "print(\"Data Rental PS:\")\n",
        "print(df)"
      ],
      "metadata": {
        "colab": {
          "base_uri": "https://localhost:8080/"
        },
        "id": "ubxRPlvF7img",
        "outputId": "b7ece85c-e07d-4d84-fcea-094e195fac69"
      },
      "execution_count": null,
      "outputs": [
        {
          "output_type": "stream",
          "name": "stdout",
          "text": [
            "Data Rental PS:\n",
            "   Durasi Sewa (jam)  Waktu Sewa (jam)  Pengeluaran (Rp)  \\\n",
            "0                  2                18             30000   \n",
            "1                  1                15             15000   \n",
            "2                  5                20             75000   \n",
            "3                  3                10             45000   \n",
            "4                  6                22             90000   \n",
            "\n",
            "   Frekuensi Penyewaan (kali)  \n",
            "0                           3  \n",
            "1                           1  \n",
            "2                           6  \n",
            "3                           4  \n",
            "4                           7  \n"
          ]
        }
      ]
    },
    {
      "cell_type": "code",
      "source": [
        "# Membuat model K-Means\n",
        "kmeans = KMeans(n_clusters=3, random_state=0)\n",
        "df['Cluster'] = kmeans.fit_predict(df)"
      ],
      "metadata": {
        "id": "lsiA5-Jy7o-k"
      },
      "execution_count": null,
      "outputs": []
    },
    {
      "cell_type": "code",
      "source": [
        "# Menampilkan centroid dan hasil clustering\n",
        "print(\"\\nCentroid:\")\n",
        "print(pd.DataFrame(kmeans.cluster_centers_, columns=df.columns[:-1]))"
      ],
      "metadata": {
        "colab": {
          "base_uri": "https://localhost:8080/"
        },
        "id": "tG1nHrrG7q0C",
        "outputId": "e445b21a-6c57-4085-e2dd-8020e8c76401"
      },
      "execution_count": null,
      "outputs": [
        {
          "output_type": "stream",
          "name": "stdout",
          "text": [
            "\n",
            "Centroid:\n",
            "   Durasi Sewa (jam)  Waktu Sewa (jam)  Pengeluaran (Rp)  \\\n",
            "0                5.5              21.0           82500.0   \n",
            "1                1.5              16.5           22500.0   \n",
            "2                3.0              10.0           45000.0   \n",
            "\n",
            "   Frekuensi Penyewaan (kali)  \n",
            "0                         6.5  \n",
            "1                         2.0  \n",
            "2                         4.0  \n"
          ]
        }
      ]
    },
    {
      "cell_type": "code",
      "source": [
        "print(\"\\nHasil Clustering:\")\n",
        "print(df)"
      ],
      "metadata": {
        "colab": {
          "base_uri": "https://localhost:8080/"
        },
        "id": "VXJ4yq1f7vwY",
        "outputId": "bd6d260b-4434-4168-bc94-77100a638401"
      },
      "execution_count": null,
      "outputs": [
        {
          "output_type": "stream",
          "name": "stdout",
          "text": [
            "\n",
            "Hasil Clustering:\n",
            "   Durasi Sewa (jam)  Waktu Sewa (jam)  Pengeluaran (Rp)  \\\n",
            "0                  2                18             30000   \n",
            "1                  1                15             15000   \n",
            "2                  5                20             75000   \n",
            "3                  3                10             45000   \n",
            "4                  6                22             90000   \n",
            "\n",
            "   Frekuensi Penyewaan (kali)  Cluster  \n",
            "0                           3        1  \n",
            "1                           1        1  \n",
            "2                           6        0  \n",
            "3                           4        2  \n",
            "4                           7        0  \n"
          ]
        }
      ]
    },
    {
      "cell_type": "code",
      "source": [
        "# Visualisasi hasil clustering\n",
        "colors = ['red', 'blue', 'green']\n",
        "plt.figure(figsize=(8, 6))\n",
        "for i in range(3):\n",
        "    cluster_data = df[df['Cluster'] == i]\n",
        "\n",
        "plt.scatter(cluster_data['Durasi Sewa (jam)'], cluster_data['Pengeluaran (Rp)'],\n",
        "                color=colors[i], label=f'Cluster {i+1}')\n",
        "\n",
        "plt.scatter(kmeans.cluster_centers_[:, 0], kmeans.cluster_centers_[:, 2],\n",
        "            color='yellow', marker='X', s=200, label='Centroid')\n",
        "\n",
        "plt.title('K-Means Clustering (Rental PS)')\n",
        "plt.xlabel('Durasi Sewa (jam)')\n",
        "plt.ylabel('Pengeluaran (Rp)')\n",
        "plt.legend()\n",
        "plt.show()"
      ],
      "metadata": {
        "colab": {
          "base_uri": "https://localhost:8080/",
          "height": 225
        },
        "id": "wXmvYilC76KJ",
        "outputId": "7dac9632-762f-44e2-d993-56ae1f31a081"
      },
      "execution_count": null,
      "outputs": [
        {
          "output_type": "display_data",
          "data": {
            "text/plain": [
              "<Figure size 800x600 with 1 Axes>"
            ],
            "image/png": "[encoded data removed]"
          },
          "metadata": {}
        }
      ]
    }
  ]
}